{
 "cells": [
  {
   "cell_type": "markdown",
   "id": "mighty-brooks",
   "metadata": {},
   "source": [
    "### Volcano"
   ]
  },
  {
   "cell_type": "markdown",
   "id": "imposed-constitution",
   "metadata": {},
   "source": [
    "#### step 1: Create Volcano class\n",
    "Create a class volcade with below attributes:volcanoName,country,elevation,arealnkSq,lastEruptionYear"
   ]
  },
  {
   "cell_type": "code",
   "execution_count": 1,
   "id": "commercial-senior",
   "metadata": {},
   "outputs": [],
   "source": [
    "class Volcano:\n",
    "    def __init__(self,volcanoName,country,elevation,arealnkSq,lastEruptionYear):\n",
    "        self.volcanoName=volcanoName\n",
    "        self.country=country\n",
    "        self.elevation=elevation\n",
    "        self.arealnkSq=arealnkSq\n",
    "        self.lastEruptionYear=lastEruptionYear\n",
    "        "
   ]
  },
  {
   "cell_type": "markdown",
   "id": "nutritional-clarity",
   "metadata": {},
   "source": [
    "#### Step 2:Create another class Eruption \n",
    "define methods :\n",
    "findVolcanoByCountry:The method takes of volcano objects and country as the argument and returns the list of volcano objects whose country matches with the country passed as an argument.\n",
    "        getVolcanoCategorization:The method takes of volcano objects and volcano name as the argument and returns the volcano status."
   ]
  },
  {
   "cell_type": "code",
   "execution_count": 3,
   "id": "acute-packaging",
   "metadata": {},
   "outputs": [],
   "source": [
    "class Eruption:\n",
    "    def findVolcanoByCountry (self,volcanoList,country):\n",
    "        co=[]#list for return objects of same name country\n",
    "        for i in range(0,len(volcanoList)):\n",
    "            if country==volcanoList[i].country:\n",
    "                co.append(volcanoList[i])\n",
    "        if len(co)==0:\n",
    "            return None\n",
    "        else:\n",
    "            return co\n",
    "    def getVolcanoCategorization(self,volcanoList,volcanoName):\n",
    "        #checking varriable\n",
    "        flag=0\n",
    "        #current year\n",
    "        year=2021\n",
    "        for i in range(0,len(volcanoList)):\n",
    "            if volcanoName==volcanoList[i].volcanoName:\n",
    "                flag=1\n",
    "                #volcano status calculation as logic\n",
    "                if (year-volcanoList[i].lastEruptionYear)<=25 and (year-volcanoList[i].lastEruptionYear)>=1:\n",
    "                    status='High probability'\n",
    "                elif (year-volcanoList[i].lastEruptionYear)<=50 and (year-volcanoList[i].lastEruptionYear)>=25:\n",
    "                    status='Low probability'\n",
    "                elif (year-volcanoList[i].lastEruptionYear)==0:\n",
    "                    status='Active'\n",
    "                else:\n",
    "                    status='Inactive'\n",
    "        if flag==0:\n",
    "            return None\n",
    "        else:\n",
    "            return status\n",
    "                \n",
    "                "
   ]
  },
  {
   "cell_type": "markdown",
   "id": "hundred-rolling",
   "metadata": {},
   "source": [
    "#### Step 3:Main Function\n",
    "Read the values for the Volcano create tis Volcano object and add to the list. This  for the number of Volcano objects \n",
    "a. Number of Volcanos\n",
    "\n",
    "b. First read the volcanoName,country,elevation,arealnkSq,lastEruptionYear of all volcanos\n",
    "\n",
    "c. call the method findvolcanoByCounty and getVolcanoCategorization\n",
    "\n",
    "d. Then read countryname and print volcano name ,country and lastEruptionYear by method findvolcanoByCounty\n",
    "\n",
    "e. Then read volcanoname and print its status"
   ]
  },
  {
   "cell_type": "code",
   "execution_count": 4,
   "id": "quality-invention",
   "metadata": {},
   "outputs": [
    {
     "name": "stdout",
     "output_type": "stream",
     "text": [
      "5\n",
      "Mauna Loa\n",
      "United States\n",
      "4169\n",
      "5271\n",
      "1984\n",
      "Mount Etna\n",
      "Italy\n",
      "3350\n",
      "1190\n",
      "2021\n",
      "Mount Merapl\n",
      "Indonesia\n",
      "2930\n",
      "1356\n",
      "2020\n",
      "Mount Vesuvius\n",
      "Italy\n",
      "1281\n",
      "1232\n",
      "1944\n",
      "Mount Pinatubo\n",
      "Philippine\n",
      "1486\n",
      "1486\n",
      "1991\n",
      "Italy\n",
      "Mount Etna\n",
      "Mount Etna\n",
      "Italy\n",
      "2021\n",
      "Mount Vesuvius\n",
      "Italy\n",
      "1944\n",
      "Low probability\n"
     ]
    }
   ],
   "source": [
    "#main\n",
    "n=int(input())#no of list\n",
    "volcanoList=['']*n\n",
    "c=-1\n",
    "#taking data for each volcano object\n",
    "for i in range(0,n):\n",
    "    volcanoName=input()\n",
    "    county=input()\n",
    "    elevation=int(input())\n",
    "    arealnkSq=int(input())\n",
    "    lastEruptionYear=int(input())\n",
    "    volcanoList[i]=Volcano(volcanoName,county,elevation,arealnkSq,lastEruptionYear)#creating Volcano class objects\n",
    "#wamted countryname\n",
    "country_want=input()\n",
    "#wamted volcanoname\n",
    "volcano_name_want=input()\n",
    "\n",
    "#Eruption class object\n",
    "Er=Eruption()\n",
    "#findvolcano method calling\n",
    "con_list=Er.findVolcanoByCountry(volcanoList,country_want)\n",
    "#getvolcanoCategorization method calling\n",
    "status=Er.getVolcanoCategorization(volcanoList,volcanoName)\n",
    "if con_list==None:\n",
    "    #if getvolcano method return None\n",
    "    print('No matching record is found')\n",
    "else:\n",
    "    #print all volcanona name,country,lastEruptionYear with this country\n",
    "    for i in range(0,len(con_list)):\n",
    "        print(con_list[i].volcanoName)\n",
    "        print(con_list[i].country)\n",
    "        print(con_list[i].lastEruptionYear)\n",
    "if status==None:\n",
    "    #if findvolcanoCategorization return None\n",
    "    print('No volcano is available with this name')\n",
    "else:\n",
    "    #print status\n",
    "    print(status)"
   ]
  },
  {
   "cell_type": "code",
   "execution_count": null,
   "id": "variable-underground",
   "metadata": {},
   "outputs": [],
   "source": []
  }
 ],
 "metadata": {
  "kernelspec": {
   "display_name": "Python 3",
   "language": "python",
   "name": "python3"
  },
  "language_info": {
   "codemirror_mode": {
    "name": "ipython",
    "version": 3
   },
   "file_extension": ".py",
   "mimetype": "text/x-python",
   "name": "python",
   "nbconvert_exporter": "python",
   "pygments_lexer": "ipython3",
   "version": "3.8.1"
  }
 },
 "nbformat": 4,
 "nbformat_minor": 5
}
